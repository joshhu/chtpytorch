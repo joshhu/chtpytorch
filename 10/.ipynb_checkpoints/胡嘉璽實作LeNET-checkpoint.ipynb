{
 "cells": [
  {
   "cell_type": "markdown",
   "metadata": {},
   "source": [
    "# Import Libraries"
   ]
  },
  {
   "cell_type": "code",
   "execution_count": 1,
   "metadata": {},
   "outputs": [
    {
     "name": "stdout",
     "output_type": "stream",
     "text": [
      "Populating the interactive namespace from numpy and matplotlib\n"
     ]
    }
   ],
   "source": [
    "%reset -f\n",
    "%pylab inline\n",
    "from __future__ import print_function\n",
    "import torch\n",
    "import torch.nn as nn\n",
    "import torch.nn.functional as F\n",
    "import torch.optim as optim\n",
    "from torchvision import datasets, transforms"
   ]
  },
  {
   "cell_type": "markdown",
   "metadata": {},
   "source": [
    "# Loading Dataset"
   ]
  },
  {
   "cell_type": "code",
   "execution_count": 2,
   "metadata": {},
   "outputs": [],
   "source": [
    "# Training settings\n",
    "batch_size = 64\n",
    "\n",
    "# MNIST Dataset\n",
    "train_dataset = datasets.MNIST(root='./data/',\n",
    "                               train=True,\n",
    "                               transform=transforms.ToTensor(),\n",
    "                               download=True)\n",
    "\n",
    "test_dataset = datasets.MNIST(root='./data/',\n",
    "                              train=False,\n",
    "                              transform=transforms.ToTensor())\n",
    "\n",
    "# Data Loader (Input Pipeline)\n",
    "train_loader = torch.utils.data.DataLoader(dataset=train_dataset,\n",
    "                                           batch_size=batch_size,\n",
    "                                           shuffle=True)\n",
    "\n",
    "test_loader = torch.utils.data.DataLoader(dataset=test_dataset,\n",
    "                                          batch_size=batch_size,\n",
    "                                          shuffle=False)\n"
   ]
  },
  {
   "cell_type": "markdown",
   "metadata": {},
   "source": [
    "# Construct My LeNet"
   ]
  },
  {
   "cell_type": "code",
   "execution_count": 3,
   "metadata": {},
   "outputs": [],
   "source": [
    "class LeNet(nn.Module):\n",
    "\n",
    "    def __init__(self):\n",
    "        super(LeNet, self).__init__()\n",
    "        self.conv1 = nn.Sequential(nn.Conv2d(1, 6, kernel_size=5, stride=1, padding=2),\n",
    "                                   nn.ReLU(),\n",
    "                                   nn.MaxPool2d(kernel_size=2, stride=2))\n",
    "        \n",
    "        self.conv2 = nn.Sequential(nn.Conv2d(6, 16, 5),\n",
    "                                   nn.ReLU(),\n",
    "                                   nn.MaxPool2d(kernel_size=2, stride=2))\n",
    "       \n",
    "        self.fc1 = nn.Sequential(nn.Linear(16 * 5 * 5, 120),\n",
    "                                 nn.ReLU())\n",
    "\n",
    "        self.fc2 = nn.Sequential(nn.Linear(120, 84),\n",
    "                                 nn.ReLU())\n",
    "\n",
    "        self.fc3 = nn.Linear(84, 10)\n",
    "                   \n",
    "\n",
    "    def forward(self, x):\n",
    "        in_size = x.size(0)\n",
    "        x = self.conv1(x)\n",
    "        x = self.conv2(x)\n",
    "        x = x.view(in_size, -1)\n",
    "        x = self.fc1(x)\n",
    "        x = self.fc2(x)\n",
    "        x = self.fc3(x)\n",
    "        \n",
    "        # return F.log_softmax(x, dim=1)\n",
    "        return x\n",
    "        \n",
    "        \n"
   ]
  },
  {
   "cell_type": "markdown",
   "metadata": {},
   "source": [
    "\n",
    "# Experiment of my LeNet"
   ]
  },
  {
   "cell_type": "code",
   "execution_count": null,
   "metadata": {},
   "outputs": [],
   "source": [
    "for batch_idx, (data, target) in enumerate(train_loader):\n",
    "    inputs = data\n",
    "\n",
    "conv1 = nn.Sequential(nn.Conv2d(1, 6, kernel_size=5, stride=1, padding=2),\n",
    "                      nn.ReLU(),\n",
    "                      nn.MaxPool2d(kernel_size=2, stride=2))\n",
    "\n",
    "\n",
    "conv2 = nn.Sequential(nn.Conv2d(6, 16, 5),\n",
    "                      nn.ReLU(),\n",
    "                      nn.MaxPool2d(kernel_size=2, stride=2))\n",
    "\n",
    "fc1 = nn.Sequential(nn.Linear(16 * 5 * 5, 120), \n",
    "                    nn.ReLU())\n",
    "\n",
    "fc2 = nn.Sequential(nn.Linear(120, 84),\n",
    "                    nn.ReLU())\n",
    "\n",
    "fc3 = nn.Linear(84, 10)\n",
    "\n",
    "convresult = conv2(conv1(inputs))\n",
    "convresult = convresult.view(inputs.size(0), -1)\n",
    "\n",
    "#F.log_softmax(fc3(fc2(fc1(convresult))), dim=1)\n",
    "fc3(fc2(fc1(convresult)))"
   ]
  },
  {
   "cell_type": "markdown",
   "metadata": {},
   "source": [
    "# Define optimizer and loss"
   ]
  },
  {
   "cell_type": "code",
   "execution_count": 4,
   "metadata": {},
   "outputs": [],
   "source": [
    "EPOCH = 8\n",
    "BATCH_SIZE = 100\n",
    "LR = 0.01\n",
    "\n",
    "model = LeNet()\n",
    "optimizer = optim.SGD(model.parameters(), lr=LR, momentum=0.5)"
   ]
  },
  {
   "cell_type": "code",
   "execution_count": 6,
   "metadata": {},
   "outputs": [
    {
     "name": "stdout",
     "output_type": "stream",
     "text": [
      "Train Epoch: 0 [0/60000 (0%)]\tLoss: 0.064472\n",
      "Train Epoch: 0 [6400/60000 (11%)]\tLoss: 0.018600\n",
      "Train Epoch: 0 [12800/60000 (21%)]\tLoss: 0.006130\n",
      "Train Epoch: 0 [19200/60000 (32%)]\tLoss: 0.036923\n",
      "Train Epoch: 0 [25600/60000 (43%)]\tLoss: 0.004984\n",
      "Train Epoch: 0 [32000/60000 (53%)]\tLoss: 0.019675\n",
      "Train Epoch: 0 [38400/60000 (64%)]\tLoss: 0.055711\n",
      "Train Epoch: 0 [44800/60000 (75%)]\tLoss: 0.035499\n",
      "Train Epoch: 0 [51200/60000 (85%)]\tLoss: 0.114192\n",
      "Train Epoch: 0 [57600/60000 (96%)]\tLoss: 0.029637\n",
      "Train Epoch: 1 [0/60000 (0%)]\tLoss: 0.032105\n",
      "Train Epoch: 1 [6400/60000 (11%)]\tLoss: 0.042605\n",
      "Train Epoch: 1 [12800/60000 (21%)]\tLoss: 0.020663\n",
      "Train Epoch: 1 [19200/60000 (32%)]\tLoss: 0.044757\n",
      "Train Epoch: 1 [25600/60000 (43%)]\tLoss: 0.008038\n",
      "Train Epoch: 1 [32000/60000 (53%)]\tLoss: 0.023884\n",
      "Train Epoch: 1 [38400/60000 (64%)]\tLoss: 0.031148\n",
      "Train Epoch: 1 [44800/60000 (75%)]\tLoss: 0.022201\n",
      "Train Epoch: 1 [51200/60000 (85%)]\tLoss: 0.173052\n",
      "Train Epoch: 1 [57600/60000 (96%)]\tLoss: 0.036725\n",
      "Train Epoch: 2 [0/60000 (0%)]\tLoss: 0.047107\n",
      "Train Epoch: 2 [6400/60000 (11%)]\tLoss: 0.021628\n",
      "Train Epoch: 2 [12800/60000 (21%)]\tLoss: 0.024178\n",
      "Train Epoch: 2 [19200/60000 (32%)]\tLoss: 0.043232\n",
      "Train Epoch: 2 [25600/60000 (43%)]\tLoss: 0.010565\n",
      "Train Epoch: 2 [32000/60000 (53%)]\tLoss: 0.004988\n",
      "Train Epoch: 2 [38400/60000 (64%)]\tLoss: 0.010725\n",
      "Train Epoch: 2 [44800/60000 (75%)]\tLoss: 0.052537\n",
      "Train Epoch: 2 [51200/60000 (85%)]\tLoss: 0.021933\n",
      "Train Epoch: 2 [57600/60000 (96%)]\tLoss: 0.011200\n",
      "Train Epoch: 3 [0/60000 (0%)]\tLoss: 0.161239\n",
      "Train Epoch: 3 [6400/60000 (11%)]\tLoss: 0.071965\n",
      "Train Epoch: 3 [12800/60000 (21%)]\tLoss: 0.041721\n",
      "Train Epoch: 3 [19200/60000 (32%)]\tLoss: 0.033275\n",
      "Train Epoch: 3 [25600/60000 (43%)]\tLoss: 0.009534\n",
      "Train Epoch: 3 [32000/60000 (53%)]\tLoss: 0.026289\n",
      "Train Epoch: 3 [38400/60000 (64%)]\tLoss: 0.004218\n",
      "Train Epoch: 3 [44800/60000 (75%)]\tLoss: 0.013077\n",
      "Train Epoch: 3 [51200/60000 (85%)]\tLoss: 0.019393\n",
      "Train Epoch: 3 [57600/60000 (96%)]\tLoss: 0.026199\n",
      "Train Epoch: 4 [0/60000 (0%)]\tLoss: 0.013774\n",
      "Train Epoch: 4 [6400/60000 (11%)]\tLoss: 0.051402\n",
      "Train Epoch: 4 [12800/60000 (21%)]\tLoss: 0.061300\n",
      "Train Epoch: 4 [19200/60000 (32%)]\tLoss: 0.008427\n",
      "Train Epoch: 4 [25600/60000 (43%)]\tLoss: 0.002484\n",
      "Train Epoch: 4 [32000/60000 (53%)]\tLoss: 0.043432\n",
      "Train Epoch: 4 [38400/60000 (64%)]\tLoss: 0.055619\n",
      "Train Epoch: 4 [44800/60000 (75%)]\tLoss: 0.033512\n",
      "Train Epoch: 4 [51200/60000 (85%)]\tLoss: 0.007464\n",
      "Train Epoch: 4 [57600/60000 (96%)]\tLoss: 0.003624\n",
      "Train Epoch: 5 [0/60000 (0%)]\tLoss: 0.013974\n",
      "Train Epoch: 5 [6400/60000 (11%)]\tLoss: 0.024430\n",
      "Train Epoch: 5 [12800/60000 (21%)]\tLoss: 0.023824\n",
      "Train Epoch: 5 [19200/60000 (32%)]\tLoss: 0.035481\n",
      "Train Epoch: 5 [25600/60000 (43%)]\tLoss: 0.036791\n",
      "Train Epoch: 5 [32000/60000 (53%)]\tLoss: 0.032440\n",
      "Train Epoch: 5 [38400/60000 (64%)]\tLoss: 0.221419\n",
      "Train Epoch: 5 [44800/60000 (75%)]\tLoss: 0.012306\n",
      "Train Epoch: 5 [51200/60000 (85%)]\tLoss: 0.006498\n",
      "Train Epoch: 5 [57600/60000 (96%)]\tLoss: 0.033787\n",
      "Train Epoch: 6 [0/60000 (0%)]\tLoss: 0.011874\n",
      "Train Epoch: 6 [6400/60000 (11%)]\tLoss: 0.024477\n",
      "Train Epoch: 6 [12800/60000 (21%)]\tLoss: 0.050539\n",
      "Train Epoch: 6 [19200/60000 (32%)]\tLoss: 0.002298\n",
      "Train Epoch: 6 [25600/60000 (43%)]\tLoss: 0.005285\n",
      "Train Epoch: 6 [32000/60000 (53%)]\tLoss: 0.114978\n",
      "Train Epoch: 6 [38400/60000 (64%)]\tLoss: 0.032124\n",
      "Train Epoch: 6 [44800/60000 (75%)]\tLoss: 0.004412\n",
      "Train Epoch: 6 [51200/60000 (85%)]\tLoss: 0.004367\n",
      "Train Epoch: 6 [57600/60000 (96%)]\tLoss: 0.012326\n",
      "Train Epoch: 7 [0/60000 (0%)]\tLoss: 0.007755\n",
      "Train Epoch: 7 [6400/60000 (11%)]\tLoss: 0.012318\n",
      "Train Epoch: 7 [12800/60000 (21%)]\tLoss: 0.067978\n",
      "Train Epoch: 7 [19200/60000 (32%)]\tLoss: 0.018393\n",
      "Train Epoch: 7 [25600/60000 (43%)]\tLoss: 0.006301\n",
      "Train Epoch: 7 [32000/60000 (53%)]\tLoss: 0.029780\n",
      "Train Epoch: 7 [38400/60000 (64%)]\tLoss: 0.056931\n",
      "Train Epoch: 7 [44800/60000 (75%)]\tLoss: 0.022794\n",
      "Train Epoch: 7 [51200/60000 (85%)]\tLoss: 0.007121\n",
      "Train Epoch: 7 [57600/60000 (96%)]\tLoss: 0.027619\n",
      "Train Epoch: 8 [0/60000 (0%)]\tLoss: 0.006191\n",
      "Train Epoch: 8 [6400/60000 (11%)]\tLoss: 0.012223\n",
      "Train Epoch: 8 [12800/60000 (21%)]\tLoss: 0.040294\n",
      "Train Epoch: 8 [19200/60000 (32%)]\tLoss: 0.001409\n",
      "Train Epoch: 8 [25600/60000 (43%)]\tLoss: 0.013168\n",
      "Train Epoch: 8 [32000/60000 (53%)]\tLoss: 0.081538\n",
      "Train Epoch: 8 [38400/60000 (64%)]\tLoss: 0.024937\n",
      "Train Epoch: 8 [44800/60000 (75%)]\tLoss: 0.010471\n",
      "Train Epoch: 8 [51200/60000 (85%)]\tLoss: 0.047395\n",
      "Train Epoch: 8 [57600/60000 (96%)]\tLoss: 0.003376\n",
      "Train Epoch: 9 [0/60000 (0%)]\tLoss: 0.012437\n",
      "Train Epoch: 9 [6400/60000 (11%)]\tLoss: 0.002073\n",
      "Train Epoch: 9 [12800/60000 (21%)]\tLoss: 0.001787\n",
      "Train Epoch: 9 [19200/60000 (32%)]\tLoss: 0.004269\n",
      "Train Epoch: 9 [25600/60000 (43%)]\tLoss: 0.015741\n",
      "Train Epoch: 9 [32000/60000 (53%)]\tLoss: 0.006904\n",
      "Train Epoch: 9 [38400/60000 (64%)]\tLoss: 0.002259\n",
      "Train Epoch: 9 [44800/60000 (75%)]\tLoss: 0.000473\n",
      "Train Epoch: 9 [51200/60000 (85%)]\tLoss: 0.050816\n",
      "Train Epoch: 9 [57600/60000 (96%)]\tLoss: 0.018577\n"
     ]
    },
    {
     "data": {
      "text/plain": [
       "[<matplotlib.lines.Line2D at 0x7fe0dc090ef0>]"
      ]
     },
     "execution_count": 6,
     "metadata": {},
     "output_type": "execute_result"
    },
    {
     "data": {
      "image/png": "[encoded data removed]",
      "text/plain": [
       "<Figure size 432x288 with 1 Axes>"
      ]
     },
     "metadata": {},
     "output_type": "display_data"
    }
   ],
   "source": [
    "def train(epoch):\n",
    "    model.train()\n",
    "    for batch_idx, (data, target) in enumerate(train_loader):\n",
    "        optimizer.zero_grad()\n",
    "        output = model(data)\n",
    "        # loss = F.nll_loss(output, target)\n",
    "        loss = F.cross_entropy(output, target)\n",
    "        losses.append(loss.item())\n",
    "        loss.backward()\n",
    "        optimizer.step()\n",
    "        if batch_idx % 100 == 0:\n",
    "            print('Train Epoch: {} [{}/{} ({:.0f}%)]\\tLoss: {:.6f}'.format(\n",
    "                epoch, batch_idx * len(data), len(train_loader.dataset),\n",
    "                100. * batch_idx / len(train_loader), loss.item()))\n",
    "\n",
    "\n",
    "def test():\n",
    "    model.eval()\n",
    "    test_loss = 0\n",
    "    correct = 0\n",
    "    \n",
    "            \n",
    "losses = []\n",
    "for epoch in range(10):\n",
    "    train(epoch)\n",
    "plot(losses)"
   ]
  },
  {
   "cell_type": "code",
   "execution_count": 21,
   "metadata": {},
   "outputs": [
    {
     "ename": "AttributeError",
     "evalue": "'Sequential' object has no attribute 'weight'",
     "output_type": "error",
     "traceback": [
      "\u001b[0;31m---------------------------------------------------------------------------\u001b[0m",
      "\u001b[0;31mAttributeError\u001b[0m                            Traceback (most recent call last)",
      "\u001b[0;32m<ipython-input-21-5e2da8a99a7b>\u001b[0m in \u001b[0;36m<module>\u001b[0;34m()\u001b[0m\n\u001b[0;32m----> 1\u001b[0;31m \u001b[0mmodel\u001b[0m\u001b[0;34m.\u001b[0m\u001b[0mconv1\u001b[0m\u001b[0;34m.\u001b[0m\u001b[0mweight\u001b[0m\u001b[0;34m\u001b[0m\u001b[0m\n\u001b[0m",
      "\u001b[0;32m~/anaconda3/envs/pytorch/lib/python3.6/site-packages/torch/nn/modules/module.py\u001b[0m in \u001b[0;36m__getattr__\u001b[0;34m(self, name)\u001b[0m\n\u001b[1;32m    533\u001b[0m                 \u001b[0;32mreturn\u001b[0m \u001b[0mmodules\u001b[0m\u001b[0;34m[\u001b[0m\u001b[0mname\u001b[0m\u001b[0;34m]\u001b[0m\u001b[0;34m\u001b[0m\u001b[0m\n\u001b[1;32m    534\u001b[0m         raise AttributeError(\"'{}' object has no attribute '{}'\".format(\n\u001b[0;32m--> 535\u001b[0;31m             type(self).__name__, name))\n\u001b[0m\u001b[1;32m    536\u001b[0m \u001b[0;34m\u001b[0m\u001b[0m\n\u001b[1;32m    537\u001b[0m     \u001b[0;32mdef\u001b[0m \u001b[0m__setattr__\u001b[0m\u001b[0;34m(\u001b[0m\u001b[0mself\u001b[0m\u001b[0;34m,\u001b[0m \u001b[0mname\u001b[0m\u001b[0;34m,\u001b[0m \u001b[0mvalue\u001b[0m\u001b[0;34m)\u001b[0m\u001b[0;34m:\u001b[0m\u001b[0;34m\u001b[0m\u001b[0m\n",
      "\u001b[0;31mAttributeError\u001b[0m: 'Sequential' object has no attribute 'weight'"
     ]
    }
   ],
   "source": [
    "model.conv1.weight"
   ]
  }
 ],
 "metadata": {
  "kernelspec": {
   "display_name": "Python [conda env:pytorch]",
   "language": "python",
   "name": "conda-env-pytorch-py"
  },
  "language_info": {
   "codemirror_mode": {
    "name": "ipython",
    "version": 3
   },
   "file_extension": ".py",
   "mimetype": "text/x-python",
   "name": "python",
   "nbconvert_exporter": "python",
   "pygments_lexer": "ipython3",
   "version": "3.6.5"
  }
 },
 "nbformat": 4,
 "nbformat_minor": 2
}
