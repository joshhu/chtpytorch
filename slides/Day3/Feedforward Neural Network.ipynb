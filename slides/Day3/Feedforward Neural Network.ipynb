{
 "cells": [
  {
   "cell_type": "markdown",
   "metadata": {},
   "source": [
    "## Import PyTorch"
   ]
  },
  {
   "cell_type": "code",
   "execution_count": 6,
   "metadata": {},
   "outputs": [],
   "source": [
    "import torch\n",
    "import torch.nn as nn\n",
    "import torchvision.datasets as dsets\n",
    "import torchvision.transforms as transforms"
   ]
  },
  {
   "cell_type": "markdown",
   "metadata": {},
   "source": [
    "## Initialize Hyper-parameters"
   ]
  },
  {
   "cell_type": "code",
   "execution_count": 7,
   "metadata": {},
   "outputs": [],
   "source": [
    "input_size = 784       # The image size = 28 x 28 = 784\n",
    "hidden_size = 500      # The number of nodes at the hidden layer\n",
    "num_classes = 10       # The number of output classes. In this case, from 0 to 9\n",
    "num_epochs = 5         # The number of times entire dataset is trained\n",
    "batch_size = 100       # The size of input data took for one iteration\n",
    "learning_rate = 0.001  # The speed of convergence"
   ]
  },
  {
   "cell_type": "markdown",
   "metadata": {},
   "source": [
    "## Download MNIST Dataset"
   ]
  },
  {
   "cell_type": "code",
   "execution_count": 8,
   "metadata": {},
   "outputs": [],
   "source": [
    "train_dataset = dsets.MNIST(root='./data',\n",
    "                           train=True,\n",
    "                           transform=transforms.ToTensor(),\n",
    "                           download=True)\n",
    "\n",
    "test_dataset = dsets.MNIST(root='./data',\n",
    "                           train=False,\n",
    "                           transform=transforms.ToTensor())"
   ]
  },
  {
   "cell_type": "markdown",
   "metadata": {},
   "source": [
    "## Load the Dataset"
   ]
  },
  {
   "cell_type": "markdown",
   "metadata": {},
   "source": [
    "We shuffle the loading process of train_dataset to make the learning process independent of data orderness, but the order of test_loader remains to examine whether we can handle unspecified bias order of inputs."
   ]
  },
  {
   "cell_type": "code",
   "execution_count": 9,
   "metadata": {},
   "outputs": [],
   "source": [
    "train_loader = torch.utils.data.DataLoader(dataset=train_dataset,\n",
    "                                          batch_size=batch_size,\n",
    "                                          shuffle=True)\n",
    "\n",
    "test_loader = torch.utils.data.DataLoader(dataset=test_dataset,\n",
    "                                          batch_size=batch_size,\n",
    "                                          shuffle=False)"
   ]
  },
  {
   "cell_type": "markdown",
   "metadata": {},
   "source": [
    "## Feedforward Neural Network Model Structure"
   ]
  },
  {
   "cell_type": "code",
   "execution_count": 12,
   "metadata": {},
   "outputs": [],
   "source": [
    "class Net(nn.Module):\n",
    "    def __init__(self, input_size, hidden_size, num_classes):\n",
    "        super(Net, self).__init__()                    # Inherited from the parent class nn.Module\n",
    "        self.fc1 = nn.Linear(input_size, hidden_size)  # 1st Full-Connected Layer: 784 (input data) -> 500 (hidden node)\n",
    "        self.fc2 = nn.Linear(hidden_size, num_classes) # 2nd Full-Connected Layer: 500 (hidden node) -> 10 (output class)\n",
    "    \n",
    "        self.relu = nn.Sigmoid()                          # Non-Linear ReLU Layer: max(0,x)\n",
    "    \n",
    "    def forward(self, x):                              # Forward pass: stacking each layer together\n",
    "        out = self.fc1(x)\n",
    "        out = self.relu(out)\n",
    "        out = self.fc2(out)\n",
    "        return out"
   ]
  },
  {
   "cell_type": "markdown",
   "metadata": {},
   "source": [
    "## Instantiate the FNN"
   ]
  },
  {
   "cell_type": "code",
   "execution_count": 13,
   "metadata": {},
   "outputs": [],
   "source": [
    "net = Net(input_size, hidden_size, num_classes)"
   ]
  },
  {
   "cell_type": "markdown",
   "metadata": {},
   "source": [
    "## Choose the Loss Function and Optimizer"
   ]
  },
  {
   "cell_type": "code",
   "execution_count": 14,
   "metadata": {},
   "outputs": [],
   "source": [
    "criterion = nn.CrossEntropyLoss()\n",
    "optimizer = torch.optim.Adam(net.parameters(), lr=learning_rate)"
   ]
  },
  {
   "cell_type": "markdown",
   "metadata": {},
   "source": [
    "## Train the FNN Model"
   ]
  },
  {
   "cell_type": "code",
   "execution_count": 15,
   "metadata": {},
   "outputs": [
    {
     "name": "stdout",
     "output_type": "stream",
     "text": [
      "Epoch [1/5], Step [100/600], Loss: 0.6914\n",
      "Epoch [1/5], Step [200/600], Loss: 0.4286\n",
      "Epoch [1/5], Step [300/600], Loss: 0.3326\n",
      "Epoch [1/5], Step [400/600], Loss: 0.2940\n",
      "Epoch [1/5], Step [500/600], Loss: 0.1591\n",
      "Epoch [1/5], Step [600/600], Loss: 0.3312\n",
      "Epoch [2/5], Step [100/600], Loss: 0.2050\n",
      "Epoch [2/5], Step [200/600], Loss: 0.2349\n",
      "Epoch [2/5], Step [300/600], Loss: 0.2406\n",
      "Epoch [2/5], Step [400/600], Loss: 0.1450\n",
      "Epoch [2/5], Step [500/600], Loss: 0.2526\n",
      "Epoch [2/5], Step [600/600], Loss: 0.3738\n",
      "Epoch [3/5], Step [100/600], Loss: 0.1997\n",
      "Epoch [3/5], Step [200/600], Loss: 0.1184\n",
      "Epoch [3/5], Step [300/600], Loss: 0.1091\n",
      "Epoch [3/5], Step [400/600], Loss: 0.1438\n",
      "Epoch [3/5], Step [500/600], Loss: 0.2025\n",
      "Epoch [3/5], Step [600/600], Loss: 0.2011\n",
      "Epoch [4/5], Step [100/600], Loss: 0.2127\n",
      "Epoch [4/5], Step [200/600], Loss: 0.0691\n",
      "Epoch [4/5], Step [300/600], Loss: 0.1346\n",
      "Epoch [4/5], Step [400/600], Loss: 0.1548\n",
      "Epoch [4/5], Step [500/600], Loss: 0.0828\n",
      "Epoch [4/5], Step [600/600], Loss: 0.1194\n",
      "Epoch [5/5], Step [100/600], Loss: 0.0765\n",
      "Epoch [5/5], Step [200/600], Loss: 0.0316\n",
      "Epoch [5/5], Step [300/600], Loss: 0.1904\n",
      "Epoch [5/5], Step [400/600], Loss: 0.1635\n",
      "Epoch [5/5], Step [500/600], Loss: 0.0404\n",
      "Epoch [5/5], Step [600/600], Loss: 0.0537\n"
     ]
    }
   ],
   "source": [
    "for epoch in range(num_epochs):\n",
    "    for i, (images, labels) in enumerate(train_loader):   # Load a batch of images with its (index, data, class)\n",
    "        images = torch.FloatTensor(images.view(-1, 28*28))         # Convert torch tensor to Variable: change image from a vector of size 784 to a matrix of 28 x 28\n",
    "        labels = torch.LongTensor(labels)\n",
    "        \n",
    "        optimizer.zero_grad()                             # Intialize the hidden weight to all zeros\n",
    "        outputs = net(images)                             # Forward pass: compute the output class given a image\n",
    "        loss = criterion(outputs, labels)                 # Compute the loss: difference between the output class and the pre-given label\n",
    "        loss.backward()                                   # Backward pass: compute the weight\n",
    "        optimizer.step()                                  # Optimizer: update the weights of hidden nodes\n",
    "        \n",
    "        if (i+1) % 100 == 0:                              # Logging\n",
    "            print('Epoch [%d/%d], Step [%d/%d], Loss: %.4f'\n",
    "                 %(epoch+1, num_epochs, i+1, len(train_dataset)//batch_size, loss.item()))"
   ]
  },
  {
   "cell_type": "markdown",
   "metadata": {},
   "source": [
    "## Test the FNN Model"
   ]
  },
  {
   "cell_type": "markdown",
   "metadata": {},
   "source": [
    "Similar to training the nerual network, we also need to load batches of test images and collect the outputs. The differences are that:\n",
    "(1) No loss & weights calculation\n",
    "(2) No wights update\n",
    "(3) Has correct prediction calculation"
   ]
  },
  {
   "cell_type": "code",
   "execution_count": 16,
   "metadata": {},
   "outputs": [
    {
     "name": "stderr",
     "output_type": "stream",
     "text": [
      "/home/joshhu/anaconda3/envs/pytorch/lib/python3.6/site-packages/ipykernel/__main__.py:4: UserWarning: To copy construct from a tensor, it is recommended to use sourceTensor.clone().detach() or sourceTensor.clone().detach().requires_grad_(True), rather than torch.tensor(sourceTensor).\n"
     ]
    },
    {
     "name": "stdout",
     "output_type": "stream",
     "text": [
      "Accuracy of the network on the 10K test images: 96 %\n"
     ]
    }
   ],
   "source": [
    "correct = 0\n",
    "total = 0\n",
    "for images, labels in test_loader:\n",
    "    images = torch.tensor(images.view(-1, 28*28))\n",
    "    outputs = net(images)\n",
    "    _, predicted = torch.max(outputs.data, 1)  # Choose the best class from the output: The class with the best score\n",
    "    total += labels.size(0)                    # Increment the total count\n",
    "    correct += (predicted == labels).sum()     # Increment the correct count\n",
    "    \n",
    "print('Accuracy of the network on the 10K test images: %d %%' % (100 * correct / total))"
   ]
  },
  {
   "cell_type": "markdown",
   "metadata": {},
   "source": [
    "## Save the trained FNN Model for future use"
   ]
  },
  {
   "cell_type": "code",
   "execution_count": 16,
   "metadata": {},
   "outputs": [],
   "source": [
    "# Save the model\n",
    "torch.save(net.state_dict(), 'fnn_model.pkl')"
   ]
  },
  {
   "cell_type": "code",
   "execution_count": 17,
   "metadata": {},
   "outputs": [
    {
     "data": {
      "text/plain": [
       "OrderedDict([('fc1.weight',\n",
       "              tensor([[ 0.0110, -0.0194, -0.0092,  ..., -0.0297, -0.0352, -0.0318],\n",
       "                      [ 0.0307,  0.0028,  0.0350,  ...,  0.0055, -0.0320,  0.0309],\n",
       "                      [ 0.0049, -0.0002,  0.0001,  ..., -0.0166, -0.0187, -0.0103],\n",
       "                      ...,\n",
       "                      [-0.0226,  0.0227, -0.0037,  ...,  0.0031,  0.0305,  0.0241],\n",
       "                      [-0.0056,  0.0039,  0.0088,  ..., -0.0204, -0.0262,  0.0118],\n",
       "                      [ 0.0247,  0.0122, -0.0150,  ..., -0.0348, -0.0283,  0.0324]])),\n",
       "             ('fc1.bias',\n",
       "              tensor([ 0.0404,  0.1090, -0.0236,  0.0072,  0.0091, -0.0155, -0.0457, -0.0256,\n",
       "                      -0.0379,  0.0306, -0.0427,  0.0756, -0.0284,  0.0237,  0.0424,  0.0598,\n",
       "                       0.0966, -0.0178,  0.0116, -0.0359, -0.0059,  0.0074, -0.0141, -0.0004,\n",
       "                      -0.0370,  0.0418,  0.0567, -0.0263, -0.0414, -0.0090,  0.0520,  0.0963,\n",
       "                       0.0151, -0.0365, -0.0405,  0.0742,  0.0880, -0.0027, -0.0466,  0.0438,\n",
       "                       0.0936, -0.0338,  0.0404, -0.0273,  0.0231,  0.0268,  0.0304,  0.0477,\n",
       "                      -0.0034, -0.0025,  0.0409,  0.1213, -0.0716, -0.0147, -0.0085, -0.0372,\n",
       "                      -0.0079,  0.0119, -0.0847,  0.0513,  0.0624, -0.0239,  0.0010,  0.0664,\n",
       "                      -0.0404, -0.0439,  0.0128,  0.0195,  0.0756,  0.0990,  0.0190,  0.1019,\n",
       "                      -0.0040,  0.0759,  0.0522,  0.0209, -0.0001,  0.0438,  0.0392,  0.0175,\n",
       "                      -0.0096, -0.0148,  0.0083,  0.1100,  0.0213,  0.0610,  0.0610,  0.0668,\n",
       "                       0.0550, -0.0097, -0.0292,  0.0202, -0.0437, -0.0053,  0.0221,  0.0109,\n",
       "                      -0.0218,  0.0129,  0.0840,  0.0966,  0.0177, -0.0252,  0.0402,  0.0642,\n",
       "                       0.1087,  0.0369, -0.0407, -0.0116,  0.0186, -0.0023, -0.0661,  0.0160,\n",
       "                       0.0912,  0.0182, -0.0343,  0.0668, -0.1109,  0.0520, -0.0274,  0.1047,\n",
       "                      -0.0221,  0.0303,  0.0247, -0.0312,  0.0903, -0.0174,  0.0574,  0.0673,\n",
       "                      -0.0209, -0.0084,  0.0340,  0.0566,  0.1115,  0.1009,  0.1045, -0.0608,\n",
       "                       0.0596, -0.0057,  0.0732, -0.0520,  0.0555, -0.0046,  0.0034,  0.0179,\n",
       "                       0.0395,  0.0992,  0.0153,  0.0578,  0.0487,  0.0439,  0.0155, -0.0483,\n",
       "                       0.0303, -0.0386, -0.0294,  0.0106,  0.0599,  0.0048,  0.0162,  0.0226,\n",
       "                      -0.0167,  0.0295, -0.0214,  0.0185,  0.0105,  0.0029,  0.0410,  0.1052,\n",
       "                      -0.0870,  0.0215,  0.0874, -0.0352,  0.1131,  0.0066,  0.0146,  0.0881,\n",
       "                      -0.0395, -0.0067,  0.0100, -0.0622, -0.0476,  0.0567, -0.0081,  0.1009,\n",
       "                      -0.0094,  0.1030, -0.0624,  0.0557,  0.0255, -0.0607,  0.0025,  0.0439,\n",
       "                      -0.0213,  0.0516,  0.0282, -0.0176,  0.0915, -0.0231,  0.0060, -0.0896,\n",
       "                      -0.0369,  0.0290,  0.0012, -0.0050,  0.0175, -0.0533, -0.0353,  0.0358,\n",
       "                      -0.0257,  0.0900,  0.0330, -0.0224, -0.0373, -0.0005, -0.0403,  0.0669,\n",
       "                       0.0544, -0.0374,  0.0651, -0.0130, -0.0312, -0.0130,  0.0418, -0.0574,\n",
       "                       0.0283,  0.0115,  0.0185,  0.0116, -0.0138,  0.0135,  0.0336, -0.0543,\n",
       "                      -0.0372,  0.0523, -0.0007,  0.0732, -0.0245,  0.0016,  0.0926,  0.0114,\n",
       "                      -0.0222,  0.1060,  0.0647,  0.0825,  0.0652, -0.0099,  0.1335,  0.0469,\n",
       "                       0.0381, -0.0399,  0.1063, -0.0225, -0.0120,  0.0504,  0.0570,  0.1358,\n",
       "                       0.0808, -0.0239,  0.0570,  0.0478, -0.0379,  0.0530,  0.0482, -0.0852,\n",
       "                      -0.0311, -0.0209, -0.0318,  0.0625,  0.0804,  0.0452,  0.0333,  0.0977,\n",
       "                      -0.0471, -0.0286,  0.0089,  0.0174, -0.0321,  0.0409,  0.0050, -0.0494,\n",
       "                      -0.0675,  0.0539, -0.0445,  0.0427,  0.0386, -0.0009, -0.0233,  0.0692,\n",
       "                      -0.0446,  0.0189,  0.0148,  0.0240, -0.0282,  0.0549, -0.0292, -0.0709,\n",
       "                      -0.0293, -0.0225, -0.0291, -0.0054,  0.0363,  0.0052,  0.0147, -0.0093,\n",
       "                       0.0172,  0.0302,  0.1050, -0.0222,  0.0511,  0.0288, -0.0414,  0.0076,\n",
       "                       0.0449, -0.0040,  0.0475,  0.1444, -0.0009, -0.0652,  0.0501, -0.0127,\n",
       "                       0.0185,  0.0339,  0.0232,  0.0327,  0.0836, -0.0783, -0.0223,  0.0472,\n",
       "                       0.0400,  0.0719,  0.1108,  0.0230,  0.0987, -0.0091,  0.0698,  0.0030,\n",
       "                      -0.0670,  0.0415,  0.0906, -0.0089, -0.0368,  0.0126, -0.0717, -0.0381,\n",
       "                       0.0156, -0.0286,  0.1529,  0.0316, -0.0356, -0.0158,  0.0125,  0.0086,\n",
       "                       0.0525,  0.0290, -0.0719,  0.0354, -0.0142,  0.1206,  0.0847,  0.0699,\n",
       "                       0.0344, -0.0162,  0.0121,  0.0712,  0.1247,  0.1311, -0.0063,  0.0454,\n",
       "                       0.0740, -0.0522, -0.0342,  0.0427,  0.0155, -0.0475, -0.0769,  0.0631,\n",
       "                       0.1102, -0.0436,  0.1151, -0.0046,  0.0491,  0.0959, -0.0585,  0.0626,\n",
       "                       0.0538, -0.0052,  0.0015,  0.0476,  0.0510,  0.0548,  0.1003, -0.0232,\n",
       "                      -0.0397, -0.0161, -0.0504, -0.0600, -0.0191, -0.0900,  0.0731, -0.0720,\n",
       "                       0.0574, -0.0512,  0.0280,  0.0604,  0.0586,  0.0533,  0.0283,  0.0151,\n",
       "                       0.1505, -0.0134,  0.0699,  0.0294,  0.1113,  0.0297,  0.0091,  0.0402,\n",
       "                       0.0856,  0.0523, -0.0903,  0.0143,  0.0690, -0.0577,  0.0308,  0.0098,\n",
       "                       0.0146, -0.0355, -0.0861, -0.0089,  0.0034,  0.0110,  0.0997,  0.1207,\n",
       "                       0.0278,  0.0314, -0.0221,  0.0425, -0.0082,  0.0376, -0.0261,  0.0671,\n",
       "                       0.0548, -0.0525, -0.0239,  0.0266,  0.0981, -0.0273,  0.0607,  0.0864,\n",
       "                       0.0496, -0.0054, -0.0504,  0.0013, -0.0191, -0.0234, -0.0218,  0.0812,\n",
       "                      -0.0022,  0.0588,  0.0636, -0.0555, -0.0165,  0.0507,  0.0431,  0.0737,\n",
       "                      -0.0705,  0.0332, -0.0034, -0.0534, -0.0010,  0.1001,  0.0112,  0.0202,\n",
       "                       0.0163,  0.0109,  0.0038,  0.0808, -0.0229,  0.0260, -0.0447,  0.0044,\n",
       "                      -0.0104,  0.0580,  0.0101, -0.0447, -0.0532, -0.0313,  0.0944, -0.0334,\n",
       "                      -0.0034,  0.0270,  0.0837, -0.0055, -0.0182,  0.0358, -0.0323,  0.0029,\n",
       "                       0.0452,  0.0157, -0.0234,  0.1041])),\n",
       "             ('fc2.weight',\n",
       "              tensor([[-0.0788, -0.0377,  0.0450,  ..., -0.0067,  0.0466,  0.0493],\n",
       "                      [ 0.0144, -0.0825, -0.0885,  ..., -0.1668,  0.0526, -0.1531],\n",
       "                      [ 0.0534, -0.2230,  0.0388,  ...,  0.0961, -0.0248,  0.0594],\n",
       "                      ...,\n",
       "                      [ 0.0516, -0.2455, -0.0048,  ...,  0.0605, -0.0072,  0.0168],\n",
       "                      [-0.0656,  0.1025,  0.0220,  ...,  0.0671,  0.0582,  0.0302],\n",
       "                      [ 0.0706,  0.0718, -0.1143,  ...,  0.0639,  0.0709, -0.0588]])),\n",
       "             ('fc2.bias',\n",
       "              tensor([-0.0392, -0.0405,  0.0388, -0.0444,  0.0444,  0.0622,  0.0002, -0.0408,\n",
       "                       0.0398, -0.0119]))])"
      ]
     },
     "execution_count": 17,
     "metadata": {},
     "output_type": "execute_result"
    }
   ],
   "source": [
    "net.state_dict()"
   ]
  }
 ],
 "metadata": {
  "kernelspec": {
   "display_name": "Python [default]",
   "language": "python",
   "name": "python3"
  },
  "language_info": {
   "codemirror_mode": {
    "name": "ipython",
    "version": 3
   },
   "file_extension": ".py",
   "mimetype": "text/x-python",
   "name": "python",
   "nbconvert_exporter": "python",
   "pygments_lexer": "ipython3",
   "version": "3.6.5"
  }
 },
 "nbformat": 4,
 "nbformat_minor": 2
}
