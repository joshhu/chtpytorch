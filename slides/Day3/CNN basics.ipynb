{
 "cells": [
  {
   "cell_type": "code",
   "execution_count": 40,
   "metadata": {},
   "outputs": [
    {
     "name": "stdout",
     "output_type": "stream",
     "text": [
      "2\n",
      "-1\n",
      "2\n"
     ]
    }
   ],
   "source": [
    "import numpy as np\n",
    "r = np.array([[0,0,0],[0,1,2],[0,2,2]])\n",
    "w0 = np.array([[0,0,0],[1,0,-1],[1,1,1]])\n",
    "\n",
    "g = np.array([[0,0,0],[0,1,2],[0,2,2]])\n",
    "w1 = np.array([[1,1,1],[0,-1,0],[1,-1,1]])\n",
    "\n",
    "b = np.array([[0,0,0],[0,2,2],[0,1,2]])\n",
    "w2 = np.array([[-1,0,1],[-1,1,-1],[0,0,1]])\n",
    "\n",
    "\n",
    "# r.dot(w0).sum() + b.dot(w1).sum() + b.dot(w2).sum()\n",
    "print((r * w0).sum())\n",
    "print((g * w1).sum())\n",
    "print((b * w2).sum())"
   ]
  },
  {
   "cell_type": "code",
   "execution_count": 8,
   "metadata": {},
   "outputs": [
    {
     "name": "stdout",
     "output_type": "stream",
     "text": [
      "[[0 1 2]\n",
      " [3 4 5]\n",
      " [6 7 8]]\n",
      "[[0 1 2]\n",
      " [3 4 5]\n",
      " [6 7 8]]\n",
      "[[ 15  18  21]\n",
      " [ 42  54  66]\n",
      " [ 69  90 111]]\n"
     ]
    }
   ],
   "source": [
    "import numpy \n",
    "a = numpy.arange(3*3).reshape(3,3)\n",
    "b = numpy.arange(3*3).reshape(3,3)\n",
    "print(a)\n",
    "print(b)\n",
    "print(a.dot(b))"
   ]
  }
 ],
 "metadata": {
  "kernelspec": {
   "display_name": "Python [conda env:pytorch]",
   "language": "python",
   "name": "conda-env-pytorch-py"
  },
  "language_info": {
   "codemirror_mode": {
    "name": "ipython",
    "version": 3
   },
   "file_extension": ".py",
   "mimetype": "text/x-python",
   "name": "python",
   "nbconvert_exporter": "python",
   "pygments_lexer": "ipython3",
   "version": "3.6.5"
  }
 },
 "nbformat": 4,
 "nbformat_minor": 2
}
