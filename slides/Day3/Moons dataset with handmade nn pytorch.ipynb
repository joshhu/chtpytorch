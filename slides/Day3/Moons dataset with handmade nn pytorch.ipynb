{
 "cells": [
  {
   "cell_type": "code",
   "execution_count": 21,
   "metadata": {},
   "outputs": [],
   "source": [
    "%reset -f\n",
    "import torch\n",
    "import numpy as np\n",
    "import matplotlib.pyplot as plt\n",
    "from sklearn import datasets\n",
    "plt.style.use('seaborn')\n",
    "%matplotlib inline"
   ]
  },
  {
   "cell_type": "code",
   "execution_count": 22,
   "metadata": {},
   "outputs": [
    {
     "data": {
      "image/png": "[encoded data removed]",
      "text/plain": [
       "<Figure size 432x288 with 1 Axes>"
      ]
     },
     "metadata": {},
     "output_type": "display_data"
    }
   ],
   "source": [
    "X,Y = datasets.make_moons(n_samples=50000,\n",
    "                          shuffle=True,\n",
    "                          noise=0.1,\n",
    "                          random_state=1234)\n",
    "y = np.reshape(Y, (len(Y),1))\n",
    "\n",
    "plt.figure()\n",
    "plt.scatter(X[:,0], X[:,1], c=Y)\n",
    "plt.show()\n"
   ]
  },
  {
   "cell_type": "code",
   "execution_count": 23,
   "metadata": {},
   "outputs": [
    {
     "data": {
      "text/plain": [
       "array([0])"
      ]
     },
     "execution_count": 23,
     "metadata": {},
     "output_type": "execute_result"
    }
   ],
   "source": [
    "y[0]"
   ]
  },
  {
   "cell_type": "code",
   "execution_count": 24,
   "metadata": {},
   "outputs": [],
   "source": [
    "input_size = 2 \n",
    "hidden_size = 3\n",
    "output_size = 1"
   ]
  },
  {
   "cell_type": "code",
   "execution_count": 25,
   "metadata": {},
   "outputs": [],
   "source": [
    "class NeuralNetwork():\n",
    "    def __init__(self, input_size, hidden_size, output_size):\n",
    "        # weights\n",
    "        self.W1 = torch.randn(input_size, hidden_size, requires_grad=True)\n",
    "        self.W2 = torch.randn(hidden_size, hidden_size, requires_grad=True)\n",
    "        self.W3 = torch.randn(hidden_size, output_size, requires_grad=True)\n",
    "        \n",
    "        # Add bias\n",
    "        self.b1 = torch.randn(hidden_size, requires_grad=True)\n",
    "        self.b2 = torch.randn(hidden_size, requires_grad=True)\n",
    "        self.b3 = torch.randn(output_size, requires_grad=True)\n",
    "\n",
    "    def forward(self, inputs):\n",
    "        z1 = inputs.mm(self.W1).add(self.b1)\n",
    "        a1 = 1 / (1 + torch.exp(-z1))\n",
    "        z2 = a1.mm(self.W2).add(self.b2)\n",
    "        a2 = 1 / (1 + torch.exp(-z2))\n",
    "        z3 = a2.mm(self.W3).add(self.b3)\n",
    "        output = 1 / (1 + torch.exp(-z3))\n",
    "        return output"
   ]
  },
  {
   "cell_type": "code",
   "execution_count": 26,
   "metadata": {},
   "outputs": [
    {
     "name": "stdout",
     "output_type": "stream",
     "text": [
      "tensor([[-0.0501,  0.0842, -0.3665],\n",
      "        [-0.7540, -0.4700,  0.0545]], requires_grad=True)\n",
      "tensor([[-2.1959,  0.2180,  1.2964],\n",
      "        [ 0.8055, -1.7344, -1.5254],\n",
      "        [ 1.1931, -1.1755, -2.2837]], requires_grad=True)\n",
      "tensor([[-0.6095],\n",
      "        [-0.2031],\n",
      "        [-1.3347]], requires_grad=True)\n"
     ]
    }
   ],
   "source": [
    "W1 = torch.randn(2, 3, requires_grad=True)\n",
    "W2 = torch.randn(3, 3, requires_grad=True)\n",
    "W3 = torch.randn(3, 1, requires_grad=True)\n",
    "print(W1)\n",
    "print(W2)\n",
    "print(W3)"
   ]
  },
  {
   "cell_type": "code",
   "execution_count": 27,
   "metadata": {},
   "outputs": [
    {
     "name": "stdout",
     "output_type": "stream",
     "text": [
      "tensor([0.0372, 1.0948, 1.5745], requires_grad=True)\n",
      "tensor([0.5998, 0.1671, 1.5207], requires_grad=True)\n",
      "tensor([-0.3382, -0.4697, -0.5867], requires_grad=True)\n"
     ]
    }
   ],
   "source": [
    "b1 = torch.randn(3, requires_grad=True)\n",
    "b2 = torch.randn(3, requires_grad=True)\n",
    "b3 = torch.randn(3, requires_grad=True)\n",
    "print(b1)\n",
    "print(b2)\n",
    "print(b3)"
   ]
  },
  {
   "cell_type": "code",
   "execution_count": 28,
   "metadata": {},
   "outputs": [
    {
     "data": {
      "text/plain": [
       "tensor([[-1.1127,  0.4333,  1.4800]], grad_fn=<AddBackward0>)"
      ]
     },
     "execution_count": 28,
     "metadata": {},
     "output_type": "execute_result"
    }
   ],
   "source": [
    "torch.randn(1,2).mm(W1).add(b1)"
   ]
  },
  {
   "cell_type": "code",
   "execution_count": 29,
   "metadata": {},
   "outputs": [
    {
     "name": "stdout",
     "output_type": "stream",
     "text": [
      "tensor([[1.2611, 1.8314, 1.5709]], grad_fn=<AddBackward0>)\n",
      "tensor([[0.7792, 0.8619, 0.8279]], grad_fn=<MulBackward0>)\n",
      "tensor([[0.2315, 0.2090, 0.1903]], grad_fn=<MulBackward0>)\n"
     ]
    }
   ],
   "source": [
    "z1 = torch.randn(1,2).mm(W1).add(b1)\n",
    "a1 = 1 / (1 + torch.exp(-z1))\n",
    "z2 = a1.mm(W2).add(b2)\n",
    "a2 = 1 / (1 + torch.exp(-z2))\n",
    "z3 = a2.mm(W3).add(b3)\n",
    "output = 1 / (1 + torch.exp(-z3))\n",
    "print(z1)\n",
    "print(a1)\n",
    "print(output)"
   ]
  },
  {
   "cell_type": "code",
   "execution_count": 30,
   "metadata": {},
   "outputs": [],
   "source": [
    "epochs = 10000\n",
    "learning_rate = 0.005"
   ]
  },
  {
   "cell_type": "code",
   "execution_count": 31,
   "metadata": {},
   "outputs": [],
   "source": [
    "model = NeuralNetwork(input_size, hidden_size, output_size)"
   ]
  },
  {
   "cell_type": "code",
   "execution_count": 32,
   "metadata": {},
   "outputs": [],
   "source": [
    "inputs = torch.tensor(X, dtype=torch.float)\n",
    "labels = torch.tensor(y, dtype=torch.float)"
   ]
  },
  {
   "cell_type": "code",
   "execution_count": 33,
   "metadata": {},
   "outputs": [],
   "source": [
    "#store all the loss values\n",
    "losses = []"
   ]
  },
  {
   "cell_type": "code",
   "execution_count": 34,
   "metadata": {},
   "outputs": [
    {
     "name": "stdout",
     "output_type": "stream",
     "text": [
      "0 32.24477767944336\n",
      "500 21.88224220275879\n",
      "1000 8.702191352844238\n",
      "1500 8.309294700622559\n",
      "2000 8.26028823852539\n",
      "2500 8.233603477478027\n",
      "3000 8.206402778625488\n",
      "3500 8.166563034057617\n",
      "4000 8.071925163269043\n",
      "4500 7.685840606689453\n",
      "5000 6.0656352043151855\n",
      "5500 3.5301673412323\n",
      "6000 2.1004672050476074\n",
      "6500 1.4342082738876343\n",
      "7000 1.0721713304519653\n",
      "7500 0.8463608026504517\n",
      "8000 0.691478431224823\n",
      "8500 0.5783402919769287\n",
      "9000 0.49231863021850586\n",
      "9500 0.42528191208839417\n"
     ]
    }
   ],
   "source": [
    "for epoch in range(epochs):\n",
    "\n",
    "    # forward function\n",
    "    output = model.forward(inputs)\n",
    "\n",
    "    #BinaryCrossEntropy formula\n",
    "    # loss = -((labels * torch.log(output)) + (1 - labels) * torch.log(1 - output)).sum()\n",
    "    \n",
    "    #MSE Loss Function\n",
    "    loss = ((labels - output) ** 2).sum() / 500\n",
    "    \n",
    "    #Log the log so we can plot it later\n",
    "    losses.append(loss.item())\n",
    "    if not epoch%500: print(epoch, loss.item())\n",
    "\n",
    "    #calculate the gradients of the weights wrt to loss\n",
    "    loss.backward()\n",
    "\n",
    "    #adjust the weights based on the previous calculated gradients\n",
    "    model.W1.data -= learning_rate * model.W1.grad\n",
    "    model.W2.data -= learning_rate * model.W2.grad\n",
    "    model.W3.data -= learning_rate * model.W3.grad\n",
    "    model.b1.data -= learning_rate * model.b1.grad\n",
    "    model.b2.data -= learning_rate * model.b2.grad\n",
    "    model.b3.data -= learning_rate * model.b3.grad\n",
    "\n",
    "    #clear the gradients so they wont accumulate\n",
    "    model.W1.grad.zero_()\n",
    "    model.W2.grad.zero_()\n",
    "    model.W3.grad.zero_()\n",
    "    model.b1.grad.zero_()\n",
    "    model.b2.grad.zero_()\n",
    "    model.b3.grad.zero_()\n",
    "    \n",
    "\n"
   ]
  },
  {
   "cell_type": "code",
   "execution_count": 35,
   "metadata": {},
   "outputs": [
    {
     "name": "stdout",
     "output_type": "stream",
     "text": [
      "Final loss:  0.3723180294036865\n"
     ]
    },
    {
     "data": {
      "text/plain": [
       "[<matplotlib.lines.Line2D at 0x7fad86ec7208>]"
      ]
     },
     "execution_count": 35,
     "metadata": {},
     "output_type": "execute_result"
    },
    {
     "data": {
      "image/png": "[encoded data removed]",
      "text/plain": [
       "<Figure size 432x288 with 1 Axes>"
      ]
     },
     "metadata": {},
     "output_type": "display_data"
    }
   ],
   "source": [
    "print(\"Final loss: \", losses[-1])\n",
    "plt.plot(losses)"
   ]
  },
  {
   "cell_type": "code",
   "execution_count": null,
   "metadata": {},
   "outputs": [],
   "source": []
  }
 ],
 "metadata": {
  "kernelspec": {
   "display_name": "Python [default]",
   "language": "python",
   "name": "python3"
  },
  "language_info": {
   "codemirror_mode": {
    "name": "ipython",
    "version": 3
   },
   "file_extension": ".py",
   "mimetype": "text/x-python",
   "name": "python",
   "nbconvert_exporter": "python",
   "pygments_lexer": "ipython3",
   "version": "3.6.5"
  }
 },
 "nbformat": 4,
 "nbformat_minor": 2
}
