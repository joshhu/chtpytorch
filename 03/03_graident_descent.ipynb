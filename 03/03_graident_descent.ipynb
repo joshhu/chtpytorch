{
 "cells": [
  {
   "cell_type": "code",
   "execution_count": 5,
   "metadata": {},
   "outputs": [],
   "source": [
    "import torch\n",
    "#from torch.autograd import Variable\n",
    "\n",
    "x_data = [1.0, 2.0, 3.0]\n",
    "y_data = [2.0, 4.0, 6.0]\n",
    "\n",
    "\n",
    "w = torch.tensor([1.0], requires_grad=True)"
   ]
  },
  {
   "cell_type": "code",
   "execution_count": 6,
   "metadata": {},
   "outputs": [
    {
     "name": "stdout",
     "output_type": "stream",
     "text": [
      "predict (before training) 4 tensor(4.)\n"
     ]
    }
   ],
   "source": [
    "def forward(x):\n",
    "    return x * w\n",
    "\n",
    "# Loss function\n",
    "def loss(x, y):\n",
    "    y_pred = forward(x)\n",
    "    return (y_pred - y) * (y_pred - y)\n",
    "\n",
    "# Before training\n",
    "print(\"predict (before training)\",  4, forward(4).data[0])\n"
   ]
  },
  {
   "cell_type": "code",
   "execution_count": 7,
   "metadata": {},
   "outputs": [
    {
     "name": "stdout",
     "output_type": "stream",
     "text": [
      "\tgrad:  1.0 2.0 tensor(-2.)\n",
      "\tgrad:  2.0 4.0 tensor(-7.8400)\n",
      "\tgrad:  3.0 6.0 tensor(-16.2288)\n",
      "progress: 0 tensor(7.3159)\n",
      "\tgrad:  1.0 2.0 tensor(-1.4786)\n",
      "\tgrad:  2.0 4.0 tensor(-5.7962)\n",
      "\tgrad:  3.0 6.0 tensor(-11.9981)\n",
      "progress: 1 tensor(3.9988)\n",
      "\tgrad:  1.0 2.0 tensor(-1.0932)\n",
      "\tgrad:  2.0 4.0 tensor(-4.2852)\n",
      "\tgrad:  3.0 6.0 tensor(-8.8704)\n",
      "progress: 2 tensor(2.1857)\n",
      "\tgrad:  1.0 2.0 tensor(-0.8082)\n",
      "\tgrad:  2.0 4.0 tensor(-3.1681)\n",
      "\tgrad:  3.0 6.0 tensor(-6.5580)\n",
      "progress: 3 tensor(1.1946)\n",
      "\tgrad:  1.0 2.0 tensor(-0.5975)\n",
      "\tgrad:  2.0 4.0 tensor(-2.3422)\n",
      "\tgrad:  3.0 6.0 tensor(-4.8484)\n",
      "progress: 4 tensor(0.6530)\n",
      "\tgrad:  1.0 2.0 tensor(-0.4417)\n",
      "\tgrad:  2.0 4.0 tensor(-1.7316)\n",
      "\tgrad:  3.0 6.0 tensor(-3.5845)\n",
      "progress: 5 tensor(0.3569)\n",
      "\tgrad:  1.0 2.0 tensor(-0.3266)\n",
      "\tgrad:  2.0 4.0 tensor(-1.2802)\n",
      "\tgrad:  3.0 6.0 tensor(-2.6500)\n",
      "progress: 6 tensor(0.1951)\n",
      "\tgrad:  1.0 2.0 tensor(-0.2414)\n",
      "\tgrad:  2.0 4.0 tensor(-0.9465)\n",
      "\tgrad:  3.0 6.0 tensor(-1.9592)\n",
      "progress: 7 tensor(0.1066)\n",
      "\tgrad:  1.0 2.0 tensor(-0.1785)\n",
      "\tgrad:  2.0 4.0 tensor(-0.6997)\n",
      "\tgrad:  3.0 6.0 tensor(-1.4485)\n",
      "progress: 8 tensor(0.0583)\n",
      "\tgrad:  1.0 2.0 tensor(-0.1320)\n",
      "\tgrad:  2.0 4.0 tensor(-0.5173)\n",
      "\tgrad:  3.0 6.0 tensor(-1.0709)\n",
      "progress: 9 tensor(0.0319)\n",
      "predict (after training) 4 tensor(7.8049)\n"
     ]
    }
   ],
   "source": [
    "# Training loop\n",
    "for epoch in range(10):\n",
    "    for x_val, y_val in zip(x_data, y_data):\n",
    "        l = loss(x_val, y_val)\n",
    "        l.backward()\n",
    "        print(\"\\tgrad: \", x_val, y_val, w.grad.data[0])\n",
    "        w.data = w.data - 0.01 * w.grad.data\n",
    "\n",
    "        # Manually zero the gradients after updating weights\n",
    "        w.grad.data.zero_()\n",
    "\n",
    "    print(\"progress:\", epoch, l.data[0])\n",
    "\n",
    "# After training\n",
    "print(\"predict (after training)\",  4, forward(4).data[0])\n"
   ]
  },
  {
   "cell_type": "markdown",
   "metadata": {},
   "source": [
    "# [Online Derivatives](https://www.derivative-calculator.net/)"
   ]
  },
  {
   "cell_type": "markdown",
   "metadata": {},
   "source": [
    "## Multiple weights"
   ]
  },
  {
   "cell_type": "code",
   "execution_count": 5,
   "metadata": {},
   "outputs": [
    {
     "name": "stdout",
     "output_type": "stream",
     "text": [
      "predict (before training) 4 21.0\n",
      "\tgradb:  1.0 2.0 2.0\n",
      "\tgradb:  2.0 4.0 tensor([7.6224], grad_fn=<MulBackward>)\n",
      "\tgradb:  3.0 6.0 tensor([8.8671], grad_fn=<MulBackward>)\n",
      "progress: 0 w= tensor([1.9512], requires_grad=True) loss= tensor([12.6686], grad_fn=<ThMulBackward>)\n",
      "\tgradb:  1.0 2.0 tensor([0.6023], grad_fn=<MulBackward>)\n",
      "\tgradb:  2.0 4.0 tensor([-2.9193], grad_fn=<MulBackward>)\n",
      "\tgradb:  3.0 6.0 tensor([-4.5753], grad_fn=<MulBackward>)\n",
      "progress: 1 w= tensor([1.9512], requires_grad=True) loss= tensor([3.4102], grad_fn=<ThMulBackward>)\n",
      "\tgradb:  1.0 2.0 tensor([2.2954], grad_fn=<MulBackward>)\n",
      "\tgradb:  2.0 4.0 tensor([1.7823], grad_fn=<MulBackward>)\n",
      "\tgradb:  3.0 6.0 tensor([1.5181], grad_fn=<MulBackward>)\n",
      "progress: 2 w= tensor([1.9512], requires_grad=True) loss= tensor([0.3655], grad_fn=<ThMulBackward>)\n",
      "\tgradb:  1.0 2.0 tensor([1.5035], grad_fn=<MulBackward>)\n",
      "\tgradb:  2.0 4.0 tensor([-0.3704], grad_fn=<MulBackward>)\n",
      "\tgradb:  3.0 6.0 tensor([-1.2211], grad_fn=<MulBackward>)\n",
      "progress: 3 w= tensor([1.9512], requires_grad=True) loss= tensor([0.2470], grad_fn=<ThMulBackward>)\n",
      "\tgradb:  1.0 2.0 tensor([1.8357], grad_fn=<MulBackward>)\n",
      "\tgradb:  2.0 4.0 tensor([0.5766], grad_fn=<MulBackward>)\n",
      "\tgradb:  3.0 6.0 tensor([0.0331], grad_fn=<MulBackward>)\n",
      "progress: 4 w= tensor([1.9512], requires_grad=True) loss= tensor([0.0001], grad_fn=<ThMulBackward>)\n",
      "\tgradb:  1.0 2.0 tensor([1.6600], grad_fn=<MulBackward>)\n",
      "\tgradb:  2.0 4.0 tensor([0.1225], grad_fn=<MulBackward>)\n",
      "\tgradb:  3.0 6.0 tensor([-0.5187], grad_fn=<MulBackward>)\n",
      "progress: 5 w= tensor([1.9512], requires_grad=True) loss= tensor([0.0457], grad_fn=<ThMulBackward>)\n",
      "\tgradb:  1.0 2.0 tensor([1.7144], grad_fn=<MulBackward>)\n",
      "\tgradb:  2.0 4.0 tensor([0.3024], grad_fn=<MulBackward>)\n",
      "\tgradb:  3.0 6.0 tensor([-0.2541], grad_fn=<MulBackward>)\n",
      "progress: 6 w= tensor([1.9512], requires_grad=True) loss= tensor([0.0115], grad_fn=<ThMulBackward>)\n",
      "\tgradb:  1.0 2.0 tensor([1.6653], grad_fn=<MulBackward>)\n",
      "\tgradb:  2.0 4.0 tensor([0.1960], grad_fn=<MulBackward>)\n",
      "\tgradb:  3.0 6.0 tensor([-0.3589], grad_fn=<MulBackward>)\n",
      "progress: 7 w= tensor([1.9512], requires_grad=True) loss= tensor([0.0222], grad_fn=<ThMulBackward>)\n",
      "\tgradb:  1.0 2.0 tensor([1.6634], grad_fn=<MulBackward>)\n",
      "\tgradb:  2.0 4.0 tensor([0.2195], grad_fn=<MulBackward>)\n",
      "\tgradb:  3.0 6.0 tensor([-0.2970], grad_fn=<MulBackward>)\n",
      "progress: 8 w= tensor([1.9512], requires_grad=True) loss= tensor([0.0154], grad_fn=<ThMulBackward>)\n",
      "\tgradb:  1.0 2.0 tensor([1.6405], grad_fn=<MulBackward>)\n",
      "\tgradb:  2.0 4.0 tensor([0.1848], grad_fn=<MulBackward>)\n",
      "\tgradb:  3.0 6.0 tensor([-0.3107], grad_fn=<MulBackward>)\n",
      "progress: 9 w= tensor([1.9512], requires_grad=True) loss= tensor([0.0167], grad_fn=<ThMulBackward>)\n",
      "predict (after training) 4 hours tensor([8.5852], grad_fn=<ThAddBackward>)\n"
     ]
    }
   ],
   "source": [
    "import numpy as np\n",
    "import matplotlib.pyplot as plt\n",
    "x_data = [1.0, 2.0, 3.0]\n",
    "y_data = [2.0, 4.0, 6.0]\n",
    "\n",
    "\n",
    "w1 = 1.0  # a random guess: random value, 1.0\n",
    "w2 = 1.0\n",
    "b = 1.0\n",
    "\n",
    "# our model for the forward pass\n",
    "def forward(x):\n",
    "    return x ** 2 * w2 + x * w1 +b\n",
    "\n",
    "# Loss function\n",
    "def loss(x, y):\n",
    "    y_pred = forward(x)\n",
    "    return (y_pred - y) * (y_pred - y)\n",
    "\n",
    "# compute gradient\n",
    "def gradientb(x, y):  # d_loss/d_w\n",
    "    return 2 * (b - y + w2 * x **2 + w1 * x)\n",
    "\n",
    "# compute gradient\n",
    "def gradientw1(x, y):  # d_loss/d_w\n",
    "    return 2 * x * (x * w1 - y + w2 * x ** 2 + b)\n",
    "\n",
    "# compute gradient\n",
    "def gradientw2(x, y):  # d_loss/d_w\n",
    "    return 2 * x ** 2 * (x ** 2 * w2 - y + w1 * x + b)\n",
    "\n",
    "\n",
    "\n",
    "# Before training\n",
    "print(\"predict (before training)\",  4, forward(4))\n",
    "\n",
    "# Training loop\n",
    "for epoch in range(10):\n",
    "    for x_val, y_val in zip(x_data, y_data):\n",
    "        gradb = gradientb(x_val, y_val)\n",
    "        gradw1 = gradientw1(x_val, y_val)\n",
    "        gradw2 = gradientw2(x_val, y_val)\n",
    "        b = w - 0.01 * gradb\n",
    "        w1 = w1 - 0.01 * gradw1\n",
    "        w2 = w2 - 0.01 * gradw2\n",
    "        print(\"\\tgradb: \", x_val, y_val, gradb)\n",
    "        l = loss(x_val, y_val)\n",
    "\n",
    "    print(\"progress:\", epoch, \"w=\", w, \"loss=\", l)\n",
    "\n",
    "# After training\n",
    "print(\"predict (after training)\",  \"4 hours\", forward(4))\n"
   ]
  }
 ],
 "metadata": {
  "kernelspec": {
   "display_name": "Python [conda env:pytorch]",
   "language": "python",
   "name": "conda-env-pytorch-py"
  },
  "language_info": {
   "codemirror_mode": {
    "name": "ipython",
    "version": 3
   },
   "file_extension": ".py",
   "mimetype": "text/x-python",
   "name": "python",
   "nbconvert_exporter": "python",
   "pygments_lexer": "ipython3",
   "version": "3.6.5"
  }
 },
 "nbformat": 4,
 "nbformat_minor": 2
}
