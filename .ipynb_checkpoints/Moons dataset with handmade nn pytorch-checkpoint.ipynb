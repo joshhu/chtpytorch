{
 "cells": [
  {
   "cell_type": "code",
   "execution_count": 139,
   "metadata": {},
   "outputs": [],
   "source": [
    "%reset -f\n",
    "import torch\n",
    "import numpy as np\n",
    "import matplotlib.pyplot as plt\n",
    "from sklearn import datasets\n",
    "plt.style.use('seaborn')\n",
    "%matplotlib inline"
   ]
  },
  {
   "cell_type": "code",
   "execution_count": 140,
   "metadata": {},
   "outputs": [
    {
     "data": {
      "image/png": "[encoded data removed]",
      "text/plain": [
       "<Figure size 432x288 with 1 Axes>"
      ]
     },
     "metadata": {},
     "output_type": "display_data"
    }
   ],
   "source": [
    "X,Y = datasets.make_moons(n_samples=50000, shuffle=True, noise=0.1, random_state=1234)\n",
    "y = np.reshape(Y, (len(Y),1))\n",
    "\n",
    "plt.figure()\n",
    "plt.scatter(X[:,0], X[:,1], c=Y)\n",
    "plt.show()\n"
   ]
  },
  {
   "cell_type": "code",
   "execution_count": 141,
   "metadata": {},
   "outputs": [],
   "source": [
    "input_size = 2 \n",
    "hidden_size = 3\n",
    "output_size = 1"
   ]
  },
  {
   "cell_type": "code",
   "execution_count": 142,
   "metadata": {},
   "outputs": [],
   "source": [
    "class NeuralNetwork():\n",
    "    def __init__(self, input_size, hidden_size, output_size):\n",
    "        # weights\n",
    "        self.W1 = torch.randn(input_size, hidden_size, requires_grad=True)\n",
    "        self.W2 = torch.randn(hidden_size, hidden_size, requires_grad=True)\n",
    "        self.W3 = torch.randn(hidden_size, output_size, requires_grad=True)\n",
    "        \n",
    "        # Add bias\n",
    "        self.b1 = torch.randn(hidden_size, requires_grad=True)\n",
    "        self.b2 = torch.randn(hidden_size, requires_grad=True)\n",
    "        self.b3 = torch.randn(output_size, requires_grad=True)\n",
    "\n",
    "    def forward(self, inputs):\n",
    "        z1 = inputs.mm(self.W1).add(self.b1)\n",
    "        a1 = 1 / (1 + torch.exp(-z1))\n",
    "        z2 = a1.mm(self.W2).add(self.b2)\n",
    "        a2 = 1 / (1 + torch.exp(-z2))\n",
    "        z3 = a2.mm(self.W3).add(self.b3)\n",
    "        output = 1 / (1 + torch.exp(-z3))\n",
    "        return output"
   ]
  },
  {
   "cell_type": "code",
   "execution_count": 143,
   "metadata": {},
   "outputs": [
    {
     "name": "stdout",
     "output_type": "stream",
     "text": [
      "tensor([[ 0.5482,  1.3769,  0.2086],\n",
      "        [-0.8778,  3.2597, -1.6370]], requires_grad=True)\n",
      "tensor([[ 0.6828,  0.0189, -1.2233],\n",
      "        [ 0.0601,  0.1720, -0.6279],\n",
      "        [-0.4868, -1.2182, -1.4519]], requires_grad=True)\n",
      "tensor([[-0.3157],\n",
      "        [-0.0589],\n",
      "        [ 1.7717]], requires_grad=True)\n"
     ]
    }
   ],
   "source": [
    "W1 = torch.randn(2, 3, requires_grad=True)\n",
    "W2 = torch.randn(3, 3, requires_grad=True)\n",
    "W3 = torch.randn(3, 1, requires_grad=True)\n",
    "print(W1)\n",
    "print(W2)\n",
    "print(W3)"
   ]
  },
  {
   "cell_type": "code",
   "execution_count": 144,
   "metadata": {},
   "outputs": [
    {
     "name": "stdout",
     "output_type": "stream",
     "text": [
      "tensor([ 1.3330,  0.2019, -1.0687], requires_grad=True)\n",
      "tensor([ 0.3269, -0.1802, -0.1119], requires_grad=True)\n",
      "tensor([-1.9843,  1.2454, -0.5829], requires_grad=True)\n"
     ]
    }
   ],
   "source": [
    "b1 = torch.randn(3, requires_grad=True)\n",
    "b2 = torch.randn(3, requires_grad=True)\n",
    "b3 = torch.randn(3, requires_grad=True)\n",
    "print(b1)\n",
    "print(b2)\n",
    "print(b3)"
   ]
  },
  {
   "cell_type": "code",
   "execution_count": 145,
   "metadata": {},
   "outputs": [
    {
     "data": {
      "text/plain": [
       "tensor([[ 0.2327,  0.7937, -2.2876]], grad_fn=<AddBackward0>)"
      ]
     },
     "execution_count": 145,
     "metadata": {},
     "output_type": "execute_result"
    }
   ],
   "source": [
    "torch.randn(1,2).mm(W1).add(b1)"
   ]
  },
  {
   "cell_type": "code",
   "execution_count": 146,
   "metadata": {},
   "outputs": [
    {
     "name": "stdout",
     "output_type": "stream",
     "text": [
      "tensor([[ 2.5207,  1.6253, -0.2448]], grad_fn=<AddBackward0>)\n",
      "tensor([[0.9256, 0.8355, 0.4391]], grad_fn=<MulBackward0>)\n",
      "tensor([[0.1114, 0.7600, 0.3373]], grad_fn=<MulBackward0>)\n"
     ]
    }
   ],
   "source": [
    "z1 = torch.randn(1,2).mm(W1).add(b1)\n",
    "a1 = 1 / (1 + torch.exp(-z1))\n",
    "z2 = a1.mm(W2).add(b2)\n",
    "a2 = 1 / (1 + torch.exp(-z2))\n",
    "z3 = a2.mm(W3).add(b3)\n",
    "output = 1 / (1 + torch.exp(-z3))\n",
    "print(z1)\n",
    "print(a1)\n",
    "print(output)"
   ]
  },
  {
   "cell_type": "code",
   "execution_count": 147,
   "metadata": {},
   "outputs": [],
   "source": [
    "epochs = 10000\n",
    "learning_rate = 0.005"
   ]
  },
  {
   "cell_type": "code",
   "execution_count": 148,
   "metadata": {},
   "outputs": [],
   "source": [
    "model = NeuralNetwork(input_size, hidden_size, output_size)"
   ]
  },
  {
   "cell_type": "code",
   "execution_count": 149,
   "metadata": {},
   "outputs": [],
   "source": [
    "inputs = torch.tensor(X, dtype=torch.float)\n",
    "labels = torch.tensor(y, dtype=torch.float)"
   ]
  },
  {
   "cell_type": "code",
   "execution_count": 150,
   "metadata": {},
   "outputs": [],
   "source": [
    "#store all the loss values\n",
    "losses = []"
   ]
  },
  {
   "cell_type": "code",
   "execution_count": 153,
   "metadata": {},
   "outputs": [
    {
     "name": "stdout",
     "output_type": "stream",
     "text": [
      "0 0.10461562871932983\n",
      "500 0.10337689518928528\n",
      "1000 0.10220834612846375\n",
      "1500 0.10110487043857574\n",
      "2000 0.10006112605333328\n",
      "2500 0.09907173365354538\n",
      "3000 0.09813307225704193\n",
      "3500 0.09724073112010956\n",
      "4000 0.09639176726341248\n",
      "4500 0.09558305889368057\n",
      "5000 0.09481161832809448\n",
      "5500 0.09407482296228409\n",
      "6000 0.09337025880813599\n",
      "6500 0.09269619733095169\n",
      "7000 0.09205085039138794\n",
      "7500 0.09143202006816864\n",
      "8000 0.09083691984415054\n",
      "8500 0.09026701003313065\n",
      "9000 0.08971822261810303\n",
      "9500 0.08919010311365128\n",
      "Final loss:  0.08868300169706345\n"
     ]
    },
    {
     "data": {
      "text/plain": [
       "[<matplotlib.lines.Line2D at 0x7f0f3f1b6eb8>]"
      ]
     },
     "execution_count": 153,
     "metadata": {},
     "output_type": "execute_result"
    },
    {
     "data": {
      "image/png": "[encoded data removed]",
      "text/plain": [
       "<Figure size 432x288 with 1 Axes>"
      ]
     },
     "metadata": {},
     "output_type": "display_data"
    }
   ],
   "source": [
    "for epoch in range(epochs):\n",
    "\n",
    "    # forward function\n",
    "    output = model.forward(inputs)\n",
    "\n",
    "    #BinaryCrossEntropy formula\n",
    "    # loss = -((labels * torch.log(output)) + (1 - labels) * torch.log(1 - output)).sum()\n",
    "    \n",
    "    #MSE Loss Function\n",
    "    loss = ((labels - output) ** 2).sum() / 500\n",
    "    \n",
    "    #Log the log so we can plot it later\n",
    "    losses.append(loss.item())\n",
    "    if not epoch%500: print(epoch, loss.item())\n",
    "\n",
    "    #calculate the gradients of the weights wrt to loss\n",
    "    loss.backward()\n",
    "\n",
    "    #adjust the weights based on the previous calculated gradients\n",
    "    model.W1.data -= learning_rate * model.W1.grad\n",
    "    model.W2.data -= learning_rate * model.W2.grad\n",
    "    model.W3.data -= learning_rate * model.W3.grad\n",
    "    model.b1.data -= learning_rate * model.b1.grad\n",
    "    model.b2.data -= learning_rate * model.b2.grad\n",
    "    model.b3.data -= learning_rate * model.b3.grad\n",
    "\n",
    "    #clear the gradients so they wont accumulate\n",
    "    model.W1.grad.zero_()\n",
    "    model.W2.grad.zero_()\n",
    "    model.W3.grad.zero_()\n",
    "    model.b1.grad.zero_()\n",
    "    model.b2.grad.zero_()\n",
    "    model.b3.grad.zero_()\n",
    "    \n",
    "\n",
    "print(\"Final loss: \", losses[-1])\n",
    "plt.plot(losses)"
   ]
  }
 ],
 "metadata": {
  "kernelspec": {
   "display_name": "Python [conda env:pytorch]",
   "language": "python",
   "name": "conda-env-pytorch-py"
  },
  "language_info": {
   "codemirror_mode": {
    "name": "ipython",
    "version": 3
   },
   "file_extension": ".py",
   "mimetype": "text/x-python",
   "name": "python",
   "nbconvert_exporter": "python",
   "pygments_lexer": "ipython3",
   "version": "3.6.5"
  }
 },
 "nbformat": 4,
 "nbformat_minor": 2
}
